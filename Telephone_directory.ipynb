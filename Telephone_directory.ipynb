{
 "cells": [
  {
   "cell_type": "code",
   "execution_count": 91,
   "id": "6d590551",
   "metadata": {},
   "outputs": [],
   "source": [
    "import pymongo\n",
    "import re\n",
    "import pandas as pd"
   ]
  },
  {
   "cell_type": "code",
   "execution_count": 92,
   "id": "44b0b19c",
   "metadata": {},
   "outputs": [],
   "source": [
    "client = pymongo.MongoClient(\"mongodb://localhost:27017/\")"
   ]
  },
  {
   "cell_type": "code",
   "execution_count": 93,
   "id": "2da4c702",
   "metadata": {},
   "outputs": [],
   "source": [
    "db = client.Telephone_Directory"
   ]
  },
  {
   "cell_type": "code",
   "execution_count": 94,
   "id": "641cf39e",
   "metadata": {},
   "outputs": [],
   "source": [
    "records = db.crud"
   ]
  },
  {
   "cell_type": "markdown",
   "id": "1a4c5c04",
   "metadata": {},
   "source": [
    "# Create Directory"
   ]
  },
  {
   "cell_type": "code",
   "execution_count": 95,
   "id": "98463620",
   "metadata": {},
   "outputs": [],
   "source": [
    "def email():\n",
    "    email_id = input(\"Enter valid Email address: \")\n",
    "    k = \"[\\w\\.-]+@[\\w\\.-]+\\.[\\w]+\"\n",
    "    if re.fullmatch(k, email_id):\n",
    "        return email_id\n",
    "    else:\n",
    "        print(\"Your Email is not valid\")"
   ]
  },
  {
   "cell_type": "code",
   "execution_count": 96,
   "id": "31899607",
   "metadata": {},
   "outputs": [],
   "source": [
    "def address():\n",
    "    Plot_Number= input(\"Enter Plot Number: \")\n",
    "    Street= input(\"Enter Street Name: \")\n",
    "    City= input(\"Enter City: \")\n",
    "    State= input(\"Enter State: \")\n",
    "    Pincode= int(input(\"Enter Pincode Number: \"))\n",
    "    \n",
    "    a = {\n",
    "        \"Plot Number\": Plot_Number,\n",
    "        \"Street\": Street,\n",
    "        \"City\": City,\n",
    "        \"State\": State,\n",
    "        \"Pincode\": Pincode        \n",
    "    }\n",
    "    return a"
   ]
  },
  {
   "cell_type": "code",
   "execution_count": null,
   "id": "27cddb92",
   "metadata": {},
   "outputs": [],
   "source": [
    "def create_contact():\n",
    "    directory = {\n",
    "        \"_id\" : models.ObjectIdField(auto_created=True, unique=True, primary_key=True),\n",
    "        \"Name\" : input(\"Enter your Name: \"),\n",
    "        \"Email_id\" : email(),\n",
    "        \"Phone Number\" : int(input(\"Enter your Phone Number: \")),\n",
    "        \"Address\" : address()\n",
    "    }\n",
    "\n",
    "records.insert_one(directory)\n",
    "\n",
    "create_contact()"
   ]
  },
  {
   "cell_type": "markdown",
   "id": "a28ac499",
   "metadata": {},
   "source": [
    "# Read Directory"
   ]
  },
  {
   "cell_type": "code",
   "execution_count": 100,
   "id": "3085d3a6",
   "metadata": {},
   "outputs": [],
   "source": [
    "def read_contact():\n",
    "    read = input(\"Please enter the name or number:\")\n",
    "    if read.isnumeric() == True:\n",
    "        b = records.find({\"Phone Number\": {\"$eq\": int(read)}})\n",
    "        for i in b:\n",
    "            print(i)\n",
    "        else:\n",
    "            print(\"Number not found. Please try again.\")\n",
    "    else:\n",
    "        my_query = {\"$and\": [{\"Name\": read}, {\"Name\": {\"$regex\": read, \"$options\": 'i'}}]}\n",
    "        s = records.find(my_query)\n",
    "        for x in s:\n",
    "            print(x)"
   ]
  },
  {
   "cell_type": "markdown",
   "id": "ee536a0c",
   "metadata": {},
   "source": [
    "# Update Directory"
   ]
  },
  {
   "cell_type": "code",
   "execution_count": 107,
   "id": "570c3781",
   "metadata": {
    "scrolled": false
   },
   "outputs": [],
   "source": [
    "def update_contact():\n",
    "    m = input('''Please enter the name of the field you would like to update: \n",
    "              1. Name\n",
    "              2. Email_id\n",
    "              3. Address   \\n''')\n",
    "    x = records.find_one({m: {\"$exists\": True}})\n",
    "    if x is not None:\n",
    "        a = input(\"Please enter your mail id : \")\n",
    "        y = records.find({\"Email_id\": a}, {\"_id\": 0})\n",
    "        l1 = list(y)\n",
    "        df = pd.DataFrame(l1)\n",
    "        print(\"Are you sure about updating the below details: (y/n)\")\n",
    "        z = df[m]\n",
    "        print(m, \":\", z[0])\n",
    "        s = input()\n",
    "        if s == (\"y\" or \"Y\"):\n",
    "            k = input(\"Please enter the new value to be updated in the field. \")\n",
    "            myquery = {m: z[0]}\n",
    "            newvalues = {\"$set\": {m: k}}\n",
    "            records.update_one(myquery, newvalues)\n",
    "            print(\"Please find your updated details below: \")\n",
    "            for i in records.find({m:k}):\n",
    "                print(i)\n",
    "        elif s == (\"n\" or \"N\"):\n",
    "            print(\"No changes made.\")\n",
    "        else:\n",
    "            print(\"Please enter a valid mail id.\")\n",
    "    else:\n",
    "        print(\"You entered the wrong value. Please try again.\")"
   ]
  },
  {
   "cell_type": "markdown",
   "id": "0dc1c5eb",
   "metadata": {},
   "source": [
    "# Delete Directory"
   ]
  },
  {
   "cell_type": "code",
   "execution_count": null,
   "id": "50ce1253",
   "metadata": {},
   "outputs": [],
   "source": [
    "def delete_contact():\n",
    "    delete = input(\"Please enter the mail_id of the individual to be deleted: \")\n",
    "    my_query = {\"Email_id\": delete}\n",
    "    a = records.find_one(my_query)\n",
    "    records.delete_one(my_query)\n",
    "    if a is not None:\n",
    "        print(\"Contact deleted successfully\\n\")\n",
    "    else:\n",
    "        print(\"Please enter a valid mail_id\")\n",
    "\n"
   ]
  },
  {
   "cell_type": "code",
   "execution_count": 111,
   "id": "b5cb2d31",
   "metadata": {
    "scrolled": true
   },
   "outputs": [
    {
     "name": "stdout",
     "output_type": "stream",
     "text": [
      "Please select the options :\n",
      "            \n",
      "            1. Create Contact\n",
      "            2. Search Contact\n",
      "            3. Update Contact\n",
      "            4. Delete Contact \n",
      "1\n",
      "Enter your Name: Dhoni\n",
      "Enter valid Email address: msdhoni@gmail.com\n",
      "Enter your Phone Number: 7777777777\n",
      "Enter Plot Number: 7\n",
      "Enter Street Name: dhoni street\n",
      "Enter City: ranchi\n",
      "Enter State: jharkand\n",
      "Enter Pincode Number: 777777\n"
     ]
    }
   ],
   "source": [
    "print(\"\"\"Please select the options :\n",
    "            \n",
    "            1. Create Contact\n",
    "            2. Read Contact\n",
    "            3. Update Contact\n",
    "            4. Delete Contact \"\"\")\n",
    "n = int(input())\n",
    "if n == 1:\n",
    "    create_contact()\n",
    "elif n == 2:\n",
    "    read_contact()\n",
    "elif n == 3:\n",
    "    update_contact()\n",
    "elif n == 4:\n",
    "    delete_contact()"
   ]
  },
  {
   "cell_type": "code",
   "execution_count": null,
   "id": "0086889e",
   "metadata": {},
   "outputs": [],
   "source": []
  }
 ],
 "metadata": {
  "kernelspec": {
   "display_name": "Python 3 (ipykernel)",
   "language": "python",
   "name": "python3"
  },
  "language_info": {
   "codemirror_mode": {
    "name": "ipython",
    "version": 3
   },
   "file_extension": ".py",
   "mimetype": "text/x-python",
   "name": "python",
   "nbconvert_exporter": "python",
   "pygments_lexer": "ipython3",
   "version": "3.9.13"
  }
 },
 "nbformat": 4,
 "nbformat_minor": 5
}
